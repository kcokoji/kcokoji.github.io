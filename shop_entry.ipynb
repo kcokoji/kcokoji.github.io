{
 "cells": [
  {
   "cell_type": "code",
   "execution_count": null,
   "id": "f376342c",
   "metadata": {},
   "outputs": [],
   "source": [
    "bread=\"bread\"\n",
    "beans=\"beans\"\n",
    "yam=\"yam\"\n",
    "malt=\"malt\"\n",
    "biscuit=\"biscuit\"\n",
    "fruit=\"fruit\""
   ]
  },
  {
   "cell_type": "code",
   "execution_count": 10,
   "id": "99a39e6e",
   "metadata": {},
   "outputs": [
    {
     "name": "stdout",
     "output_type": "stream",
     "text": [
      "List of available products\n",
      "bread, yam, beans, malt, biscuit, fruit \n",
      "What would you like to purchase ?nou\n",
      "Enter the quantity 50\n",
      " bread10,yam20,malt40,beans30, corn60, nou50 ,\n"
     ]
    }
   ],
   "source": [
    "print(\"List of available products\")\n",
    "print(\"bread, yam, beans, malt, biscuit, fruit \")\n",
    "itm=input(\"What would you like to purchase ?\")\n",
    "qty=input(\"Enter the quantity \")\n",
    "shp_entry+=itm+qty+\" ,\"\n",
    "print(shp_entry)"
   ]
  },
  {
   "cell_type": "code",
   "execution_count": 4,
   "id": "3d5e159e",
   "metadata": {},
   "outputs": [],
   "source": [
    "shp_entry=\" \""
   ]
  },
  {
   "cell_type": "code",
   "execution_count": null,
   "id": "fea9f86a",
   "metadata": {},
   "outputs": [],
   "source": []
  }
 ],
 "metadata": {
  "kernelspec": {
   "display_name": "Python 3 (ipykernel)",
   "language": "python",
   "name": "python3"
  },
  "language_info": {
   "codemirror_mode": {
    "name": "ipython",
    "version": 3
   },
   "file_extension": ".py",
   "mimetype": "text/x-python",
   "name": "python",
   "nbconvert_exporter": "python",
   "pygments_lexer": "ipython3",
   "version": "3.10.2"
  }
 },
 "nbformat": 4,
 "nbformat_minor": 5
}
